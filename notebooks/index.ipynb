{
 "cells": [
  {
   "cell_type": "markdown",
   "metadata": {},
   "source": [
    "# The Landlab Modeling Toolkit\n",
    "\n",
    "We will explore, through a series of Jupyter Notebooks, how to use the Landlab Toolkit to run and couple models built into this Python package.\n",
    "\n",
    "*  [Hillslope diffusion](hillslope_diffusion_class_notebook.ipynb)\n",
    "   * Create a Landlab model grid\n",
    "   * Instantiate and run a model component\n",
    "   * Model linear diffusion\n",
    "   * Compare analytical and model results\n",
    "\n",
    "*  [Couple hillslope and stream processes](diffusion_and_fluvial_incision.ipynb)\n",
    "   * Run multiple model components\n",
    "   * Evolve a landscape over time\n",
    "\n",
    "*  [Overland flow](overland_flow_driver.ipynb)\n",
    "   * Simulate overland flow\n",
    "\n",
    "*  [Coupled landscape-life evolution modeling](species_evolver.ipynb)\n",
    "   * Introduction to landscape connectivity and macroevolution\n",
    "   * Populate species to a model grid\n",
    "   * Evolve the species using the SpeciesEvolver component\n",
    "   * Example model: vegetation and climate change\n",
    "   * Examine species distribution with the new Landlab Profiler component\n"
   ]
  }
 ],
 "metadata": {
  "kernelspec": {
   "display_name": "Python 3",
   "language": "python",
   "name": "python3"
  },
  "language_info": {
   "codemirror_mode": {
    "name": "ipython",
    "version": 3
   },
   "file_extension": ".py",
   "mimetype": "text/x-python",
   "name": "python",
   "nbconvert_exporter": "python",
   "pygments_lexer": "ipython3",
   "version": "3.7.6"
  }
 },
 "nbformat": 4,
 "nbformat_minor": 2
}
